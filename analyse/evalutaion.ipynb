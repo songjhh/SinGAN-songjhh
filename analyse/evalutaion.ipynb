{
 "cells": [
  {
   "cell_type": "code",
   "execution_count": 2,
   "metadata": {},
   "outputs": [],
   "source": [
    "import numpy as np\n",
    "result = np.loadtxt('/Users/jianghouhong/code/songjhh/depth-learning/SinGAN-songjhh/analyse/temp2/Results/20200101.txt')\n",
    "target = np.loadtxt('/Users/jianghouhong/code/songjhh/depth-learning/SinGAN-songjhh/analyse/temp2/Compare/20200101.txt')"
   ]
  },
  {
   "cell_type": "code",
   "execution_count": 3,
   "metadata": {},
   "outputs": [
    {
     "data": {
      "text/plain": [
       "0.3513319934371328"
      ]
     },
     "execution_count": 3,
     "metadata": {},
     "output_type": "execute_result"
    }
   ],
   "source": [
    "from math import sqrt\n",
    "from sklearn.metrics import mean_squared_error\n",
    "\n",
    "improvedRMSE = []\n",
    "a = sqrt(mean_squared_error(result, target))\n",
    "improvedRMSE.append(a)\n",
    "np.mean(improvedRMSE)"
   ]
  },
  {
   "cell_type": "code",
   "execution_count": 4,
   "metadata": {},
   "outputs": [
    {
     "data": {
      "text/plain": [
       "0.8365562304807017"
      ]
     },
     "execution_count": 4,
     "metadata": {},
     "output_type": "execute_result"
    }
   ],
   "source": [
    "improvedp = []\n",
    "a = result\n",
    "a = a.flatten()\n",
    "b = target\n",
    "b = b.flatten()\n",
    "pccs = np.corrcoef(a, b)\n",
    "improvedp.append(pccs[0, 1])\n",
    "np.mean(improvedp)"
   ]
  },
  {
   "cell_type": "code",
   "execution_count": 5,
   "metadata": {},
   "outputs": [
    {
     "name": "stdout",
     "output_type": "stream",
     "text": [
      "1\n"
     ]
    },
    {
     "data": {
      "text/plain": [
       "0.059444444444444446"
      ]
     },
     "execution_count": 5,
     "metadata": {},
     "output_type": "execute_result"
    }
   ],
   "source": [
    "#######FAR\n",
    "def FAR(real, fake):\n",
    "    NA = 0\n",
    "    NB = 0\n",
    "    for i in range(real.shape[0]):\n",
    "        for j in range(real.shape[1]):\n",
    "            if real[i, j] > 0.5 and fake[i, j] > 0.5:\n",
    "                NA = NA + 1\n",
    "            elif real[i, j] <= 0.5 and fake[i, j] <= 0.5:\n",
    "                NA = NA + 1\n",
    "            elif real[i, j] > 0.5 and fake[i, j] <= 0.5:\n",
    "                NB = NB + 1\n",
    "            elif real[i, j] <= 0.5 and fake[i, j] > 0.5:\n",
    "                NB = NB + 1\n",
    "    a = NB / (NA + NB)\n",
    "    return a\n",
    "\n",
    "\n",
    "improvedFAR = []\n",
    "a = FAR(target, result)\n",
    "improvedFAR.append(a)\n",
    "print(len(improvedFAR))\n",
    "np.mean(improvedFAR)"
   ]
  },
  {
   "cell_type": "code",
   "execution_count": 12,
   "metadata": {},
   "outputs": [
    {
     "name": "stdout",
     "output_type": "stream",
     "text": [
      "1\n"
     ]
    },
    {
     "data": {
      "text/plain": [
       "0.4794794794794795"
      ]
     },
     "execution_count": 12,
     "metadata": {},
     "output_type": "execute_result"
    }
   ],
   "source": [
    "###50 75 95\n",
    "def TS(real, fake, a):\n",
    "    hold = np.percentile(real, a)\n",
    "    NA = 0\n",
    "    NB = 0\n",
    "    NC = 0\n",
    "    for i in range(real.shape[0]):\n",
    "        for j in range(real.shape[1]):\n",
    "            if real[i, j] >= hold:\n",
    "                NB = NB + 1\n",
    "    for i in range(real.shape[0]):\n",
    "        for j in range(real.shape[1]):\n",
    "            if fake[i, j] >= hold:\n",
    "                NC = NC + 1\n",
    "    for i in range(real.shape[0]):\n",
    "        for j in range(real.shape[1]):\n",
    "            if real[i, j] >= hold and fake[i, j] >= hold:\n",
    "                NA = NA + 1\n",
    "\n",
    "    a = NA / (NB + NC - NA)\n",
    "    # print(hold)\n",
    "    # print(np.max(real))\n",
    "    return a\n",
    "\n",
    "\n",
    "improvedTS = []\n",
    "a = TS(target, result, 95)\n",
    "improvedTS.append(a)\n",
    "print(len(improvedTS))\n",
    "np.mean(improvedTS)"
   ]
  }
 ],
 "metadata": {
  "kernelspec": {
   "display_name": "base",
   "language": "python",
   "name": "python3"
  },
  "language_info": {
   "codemirror_mode": {
    "name": "ipython",
    "version": 3
   },
   "file_extension": ".py",
   "mimetype": "text/x-python",
   "name": "python",
   "nbconvert_exporter": "python",
   "pygments_lexer": "ipython3",
   "version": "3.11.5"
  }
 },
 "nbformat": 4,
 "nbformat_minor": 2
}
